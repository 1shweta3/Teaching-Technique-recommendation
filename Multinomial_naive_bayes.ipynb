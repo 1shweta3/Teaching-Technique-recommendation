{
  "cells": [
    {
      "cell_type": "code",
      "execution_count": 2,
      "id": "ac4b9b9e",
      "metadata": {
        "colab": {
          "base_uri": "https://localhost:8080/"
        },
        "id": "ac4b9b9e",
        "outputId": "3a584541-d3c1-473c-8ee0-82039208ab5e"
      },
      "outputs": [
        {
          "name": "stdout",
          "output_type": "stream",
          "text": [
            "      Age Intellectual_Ability                      Topic        Technique\n",
            "0     Old                 High                 Literature       Discussion\n",
            "1   Young                 High                   Geometry      Interactive\n",
            "2     Old                 High                    History      Interactive\n",
            "3     Old                  Low      Electromagnetic_Waves       Discussion\n",
            "4   Young                 High     Industrial_Electronics      Interactive\n",
            "..    ...                  ...                        ...              ...\n",
            "95  Young               Medium                    History           Visual\n",
            "96  Young                 High     Industrial_Electronics      Interactive\n",
            "97    Old                 High             Electrostatics       Discussion\n",
            "98  Young               Medium                 Literature  Problem_Solving\n",
            "99  Young                  Low  Mechatronics_and_Robotics      Interactive\n",
            "\n",
            "[100 rows x 4 columns]\n"
          ]
        }
      ],
      "source": [
        "from sklearn.model_selection import train_test_split\n",
        "from sklearn.naive_bayes import GaussianNB\n",
        "from sklearn.metrics import accuracy_score\n",
        "import numpy as np\n",
        "import pandas as pd\n",
        "\n",
        "# Set random seed for reproducibility\n",
        "np.random.seed(42)\n",
        "\n",
        "# Generate synthetic data\n",
        "num_samples = 100\n",
        "\n",
        "age_groups = np.random.choice(['Young', 'Middle', 'Old'], size=num_samples)\n",
        "intellectual_ability = np.random.choice(['Low', 'Medium', 'High'], size=num_samples)\n",
        "topics = np.random.choice(['Algebra', 'Geometry','History','Geography','Calculus','Straight_Lines','Rigid_body_dynamics','Ray_Optics','Organic_Chemistry','Inorganic Chemistry','Mechanics','Literature','Design_and_Analysis_of_Algorithms','Advanced_Data_Structures','Data_Communication','Data_Science','Industrial_Electronics','c_language','Java','python','c++','Mechatronics_and_Robotics','Measurements','Scalars_and_Vectors','Projectile_Motion','Forces','Fluid_Mechanics','Work_Power_and_Energy','Friction','Thermal_Expansion','Refraction','Reflection','Electrostatics','Current_Electricity','Magnetic_Effects_of_Electric_Current','Magnetism','Electromagnetic_Waves'], size=num_samples)\n",
        "\n",
        "# Generating labels based on age groups and intellectual ability\n",
        "techniques = []\n",
        "for age, ability in zip(age_groups, intellectual_ability):\n",
        "    if age == 'Young':\n",
        "        if ability == 'Low':\n",
        "            techniques.append(np.random.choice(['Visual', 'Interactive']))\n",
        "        elif ability == 'Medium':\n",
        "            techniques.append(np.random.choice(['Visual', 'Problem_Solving']))\n",
        "        else:\n",
        "            techniques.append(np.random.choice(['Problem_Solving', 'Interactive']))\n",
        "    elif age == 'Middle':\n",
        "        if ability == 'Low':\n",
        "            techniques.append(np.random.choice(['Visual', 'Lecture']))\n",
        "        elif ability == 'Medium':\n",
        "            techniques.append(np.random.choice(['Problem_Solving', 'Lecture','Interactice_Quizes']))\n",
        "        else:\n",
        "            techniques.append(np.random.choice(['Interactive', 'Lecture']))\n",
        "    else:\n",
        "        if ability == 'Low':\n",
        "            techniques.append(np.random.choice(['Lecture', 'Discussion']))\n",
        "        elif ability == 'Medium':\n",
        "            techniques.append(np.random.choice(['Discussion', 'Problem_Solving']))\n",
        "        else:\n",
        "            techniques.append(np.random.choice(['Discussion', 'Interactive']))\n",
        "\n",
        "# Create a DataFrame\n",
        "data = pd.DataFrame({\n",
        "    'Age': age_groups,\n",
        "    'Intellectual_Ability': intellectual_ability,\n",
        "    'Topic': topics,\n",
        "    'Technique': techniques\n",
        "})\n",
        "print(data)\n",
        "\n",
        "data.to_csv('data.csv')"
      ]
    },
    {
      "cell_type": "code",
      "execution_count": 21,
      "metadata": {},
      "outputs": [],
      "source": [
        "import pandas as pd"
      ]
    },
    {
      "cell_type": "code",
      "execution_count": 22,
      "metadata": {},
      "outputs": [],
      "source": [
        "data = pd.read_csv('data.csv')"
      ]
    },
    {
      "cell_type": "code",
      "execution_count": 24,
      "id": "91faa690",
      "metadata": {
        "id": "91faa690",
        "outputId": "61bd281f-95d8-423e-dfeb-e94fd985eded"
      },
      "outputs": [
        {
          "name": "stderr",
          "output_type": "stream",
          "text": [
            "c:\\Users\\hp\\Desktop\\Recommendation_edi\\venv\\lib\\site-packages\\sklearn\\utils\\validation.py:767: FutureWarning: is_sparse is deprecated and will be removed in a future version. Check `isinstance(dtype, pd.SparseDtype)` instead.\n",
            "  if not hasattr(array, \"sparse\") and array.dtypes.apply(is_sparse).any():\n",
            "c:\\Users\\hp\\Desktop\\Recommendation_edi\\venv\\lib\\site-packages\\sklearn\\utils\\validation.py:605: FutureWarning: is_sparse is deprecated and will be removed in a future version. Check `isinstance(dtype, pd.SparseDtype)` instead.\n",
            "  if is_sparse(pd_dtype):\n",
            "c:\\Users\\hp\\Desktop\\Recommendation_edi\\venv\\lib\\site-packages\\sklearn\\utils\\validation.py:614: FutureWarning: is_sparse is deprecated and will be removed in a future version. Check `isinstance(dtype, pd.SparseDtype)` instead.\n",
            "  if is_sparse(pd_dtype) or not is_extension_array_dtype(pd_dtype):\n"
          ]
        },
        {
          "data": {
            "text/html": [
              "<style>#sk-container-id-1 {color: black;background-color: white;}#sk-container-id-1 pre{padding: 0;}#sk-container-id-1 div.sk-toggleable {background-color: white;}#sk-container-id-1 label.sk-toggleable__label {cursor: pointer;display: block;width: 100%;margin-bottom: 0;padding: 0.3em;box-sizing: border-box;text-align: center;}#sk-container-id-1 label.sk-toggleable__label-arrow:before {content: \"▸\";float: left;margin-right: 0.25em;color: #696969;}#sk-container-id-1 label.sk-toggleable__label-arrow:hover:before {color: black;}#sk-container-id-1 div.sk-estimator:hover label.sk-toggleable__label-arrow:before {color: black;}#sk-container-id-1 div.sk-toggleable__content {max-height: 0;max-width: 0;overflow: hidden;text-align: left;background-color: #f0f8ff;}#sk-container-id-1 div.sk-toggleable__content pre {margin: 0.2em;color: black;border-radius: 0.25em;background-color: #f0f8ff;}#sk-container-id-1 input.sk-toggleable__control:checked~div.sk-toggleable__content {max-height: 200px;max-width: 100%;overflow: auto;}#sk-container-id-1 input.sk-toggleable__control:checked~label.sk-toggleable__label-arrow:before {content: \"▾\";}#sk-container-id-1 div.sk-estimator input.sk-toggleable__control:checked~label.sk-toggleable__label {background-color: #d4ebff;}#sk-container-id-1 div.sk-label input.sk-toggleable__control:checked~label.sk-toggleable__label {background-color: #d4ebff;}#sk-container-id-1 input.sk-hidden--visually {border: 0;clip: rect(1px 1px 1px 1px);clip: rect(1px, 1px, 1px, 1px);height: 1px;margin: -1px;overflow: hidden;padding: 0;position: absolute;width: 1px;}#sk-container-id-1 div.sk-estimator {font-family: monospace;background-color: #f0f8ff;border: 1px dotted black;border-radius: 0.25em;box-sizing: border-box;margin-bottom: 0.5em;}#sk-container-id-1 div.sk-estimator:hover {background-color: #d4ebff;}#sk-container-id-1 div.sk-parallel-item::after {content: \"\";width: 100%;border-bottom: 1px solid gray;flex-grow: 1;}#sk-container-id-1 div.sk-label:hover label.sk-toggleable__label {background-color: #d4ebff;}#sk-container-id-1 div.sk-serial::before {content: \"\";position: absolute;border-left: 1px solid gray;box-sizing: border-box;top: 0;bottom: 0;left: 50%;z-index: 0;}#sk-container-id-1 div.sk-serial {display: flex;flex-direction: column;align-items: center;background-color: white;padding-right: 0.2em;padding-left: 0.2em;position: relative;}#sk-container-id-1 div.sk-item {position: relative;z-index: 1;}#sk-container-id-1 div.sk-parallel {display: flex;align-items: stretch;justify-content: center;background-color: white;position: relative;}#sk-container-id-1 div.sk-item::before, #sk-container-id-1 div.sk-parallel-item::before {content: \"\";position: absolute;border-left: 1px solid gray;box-sizing: border-box;top: 0;bottom: 0;left: 50%;z-index: -1;}#sk-container-id-1 div.sk-parallel-item {display: flex;flex-direction: column;z-index: 1;position: relative;background-color: white;}#sk-container-id-1 div.sk-parallel-item:first-child::after {align-self: flex-end;width: 50%;}#sk-container-id-1 div.sk-parallel-item:last-child::after {align-self: flex-start;width: 50%;}#sk-container-id-1 div.sk-parallel-item:only-child::after {width: 0;}#sk-container-id-1 div.sk-dashed-wrapped {border: 1px dashed gray;margin: 0 0.4em 0.5em 0.4em;box-sizing: border-box;padding-bottom: 0.4em;background-color: white;}#sk-container-id-1 div.sk-label label {font-family: monospace;font-weight: bold;display: inline-block;line-height: 1.2em;}#sk-container-id-1 div.sk-label-container {text-align: center;}#sk-container-id-1 div.sk-container {/* jupyter's `normalize.less` sets `[hidden] { display: none; }` but bootstrap.min.css set `[hidden] { display: none !important; }` so we also need the `!important` here to be able to override the default hidden behavior on the sphinx rendered scikit-learn.org. See: https://github.com/scikit-learn/scikit-learn/issues/21755 */display: inline-block !important;position: relative;}#sk-container-id-1 div.sk-text-repr-fallback {display: none;}</style><div id=\"sk-container-id-1\" class=\"sk-top-container\"><div class=\"sk-text-repr-fallback\"><pre>MultinomialNB()</pre><b>In a Jupyter environment, please rerun this cell to show the HTML representation or trust the notebook. <br />On GitHub, the HTML representation is unable to render, please try loading this page with nbviewer.org.</b></div><div class=\"sk-container\" hidden><div class=\"sk-item\"><div class=\"sk-estimator sk-toggleable\"><input class=\"sk-toggleable__control sk-hidden--visually\" id=\"sk-estimator-id-1\" type=\"checkbox\" checked><label for=\"sk-estimator-id-1\" class=\"sk-toggleable__label sk-toggleable__label-arrow\">MultinomialNB</label><div class=\"sk-toggleable__content\"><pre>MultinomialNB()</pre></div></div></div></div></div>"
            ],
            "text/plain": [
              "MultinomialNB()"
            ]
          },
          "execution_count": 24,
          "metadata": {},
          "output_type": "execute_result"
        }
      ],
      "source": [
        "import pandas as pd\n",
        "from sklearn.feature_extraction.text import CountVectorizer\n",
        "from sklearn.naive_bayes import MultinomialNB\n",
        "from sklearn.model_selection import train_test_split\n",
        "from sklearn.metrics import accuracy_score, classification_report\n",
        "\n",
        "# Your code for generating the 'data' DataFrame here\n",
        "\n",
        "# Convert 'Technique' labels into numerical values\n",
        "data['Technique_Code'] = pd.Categorical(data['Technique']).codes\n",
        "\n",
        "# Split the dataset into features (X) and target labels (y)\n",
        "X = data[['Age', 'Intellectual_Ability', 'Topic']]\n",
        "y = data['Technique']\n",
        "\n",
        "# Convert categorical features into numerical using one-hot encoding\n",
        "\n",
        "X = pd.get_dummies(X, columns=['Age', 'Intellectual_Ability', 'Topic'])\n",
        "#X_train_counts = vectorizer.fit_transform(X_train)\n",
        "#print(X)\n",
        "\n",
        "# Split the dataset into training and testing sets\n",
        "X_train, X_test, y_train, y_test = train_test_split(X, y, test_size=0.2, random_state=42)\n",
        "#print(X_train)\n",
        "vectorizer = CountVectorizer()\n",
        "X_train_counts = vectorizer.fit_transform(X_train)\n",
        "#print(X_train_counts)\n",
        "# Initialize and train the Multinomial Naive Bayes classifier\n",
        "clf = MultinomialNB()\n",
        "clf.fit(X_train, y_train)\n",
        "\n",
        "\n",
        "\n",
        "\n",
        "\n"
      ]
    },
    {
      "cell_type": "code",
      "execution_count": 25,
      "metadata": {},
      "outputs": [
        {
          "name": "stderr",
          "output_type": "stream",
          "text": [
            "c:\\Users\\hp\\Desktop\\Recommendation_edi\\venv\\lib\\site-packages\\sklearn\\base.py:439: UserWarning: X does not have valid feature names, but MultinomialNB was fitted with feature names\n",
            "  warnings.warn(\n"
          ]
        },
        {
          "name": "stdout",
          "output_type": "stream",
          "text": [
            "Processed User Input Data:\n",
            "   Age_Middle  Age_Old  Age_Young  Intellectual_Ability_High  \\\n",
            "0           0        0          0                          0   \n",
            "\n",
            "   Intellectual_Ability_Low  Intellectual_Ability_Medium  \\\n",
            "0                         0                            0   \n",
            "\n",
            "   Topic_Advanced_Data_Structures  Topic_Algebra  Topic_Calculus  \\\n",
            "0                               0              0               0   \n",
            "\n",
            "   Topic_Current_Electricity  ...  Topic_Reflection  Topic_Refraction  \\\n",
            "0                          0  ...                 0                 0   \n",
            "\n",
            "   Topic_Rigid_body_dynamics  Topic_Scalars_and_Vectors  Topic_Straight_Lines  \\\n",
            "0                          0                          0                     0   \n",
            "\n",
            "   Topic_Thermal_Expansion  Topic_Work_Power_and_Energy  Topic_c++  \\\n",
            "0                        0                            0          0   \n",
            "\n",
            "   Topic_c_language  Topic_python  \n",
            "0                 0             0  \n",
            "\n",
            "[1 rows x 39 columns]\n",
            "The predicted technique for the provided input is: ('Lecture', 'Discussion', 'Interactive')\n"
          ]
        },
        {
          "name": "stderr",
          "output_type": "stream",
          "text": [
            "c:\\Users\\hp\\Desktop\\Recommendation_edi\\venv\\lib\\site-packages\\sklearn\\base.py:439: UserWarning: X does not have valid feature names, but MultinomialNB was fitted with feature names\n",
            "  warnings.warn(\n"
          ]
        }
      ],
      "source": [
        "X_test_counts =vectorizer.fit_transform(X_test)\n",
        "#print(X_test_counts)\n",
        "y_pred = clf.predict(X_test_counts)\n",
        "\n",
        "# Evaluate the classifier\n",
        "#accuracy = accuracy_score(y_test, y_pred)\n",
        "#report = classification_report(y_test, y_pred)\n",
        "\n",
        "# Print the results\n",
        "#print(f\"Accuracy: {accuracy}\")\n",
        "#print(\"Classification Report:\\n\", report)\n",
        "age = input(\"Enter Age: \")\n",
        "intellectual_ability = input(\"Enter Intellectual Ability (Low, Medium, High): \")\n",
        "topic = input(\"Enter Topic: \")\n",
        "# Assuming 'model' is your trained Multinomial Naive Bayes model\n",
        "user_input = pd.DataFrame({\n",
        "    'Age': [age],\n",
        "    'Intellectual_Ability': [intellectual_ability],\n",
        "    'Topic': [topic]\n",
        "})\n",
        "\n",
        "# Preprocess user input (one-hot encoding, etc.) to match the training data format\n",
        "user_input = pd.get_dummies(user_input, columns=['Age', 'Intellectual_Ability', 'Topic'])\n",
        "#training_feature_names = clf.get_params()['vectorizer'].get_feature_names_out()\n",
        "#print(\"User Input Data:\")\n",
        "#print(user_input)\n",
        "\n",
        "# Ensure that the user input data contains all training feature names\n",
        "for feature_name in X.columns:\n",
        "   if feature_name not in user_input.columns:\n",
        "       user_input[feature_name] = 0\n",
        "\n",
        "# Now, the user_input_data should have all the necessary feature columns,\n",
        "# including any new categories with zeros if they were not present during training.\n",
        "user_input = user_input[X.columns]\n",
        "print(\"Processed User Input Data:\")\n",
        "print(user_input)\n",
        "user_input_counts = vectorizer.transform(user_input)\n",
        "\n",
        "\n",
        "\n",
        "# Make a prediction\n",
        "prediction = clf.predict(user_input_counts)\n",
        "print(f\"The predicted technique for the provided input is: {prediction[0],prediction[1],prediction[2]}\")\n"
      ]
    },
    {
      "cell_type": "code",
      "execution_count": 5,
      "metadata": {},
      "outputs": [],
      "source": [
        "import pickle"
      ]
    },
    {
      "cell_type": "code",
      "execution_count": 20,
      "id": "4f8a4c3f",
      "metadata": {
        "id": "4f8a4c3f"
      },
      "outputs": [],
      "source": [
        "clf = pickle.dump(clf,open('clf.pkl', 'wb'))\n",
        "data = pickle.dump(data,open('data.pkl', 'wb'))\n",
        "vectorizer = pickle.dump(vectorizer,open('vectorizer.pkl', 'wb'))\n",
        "X_train = pickle.dump(X_train,open('X_train.pkl', 'wb'))\n",
        "y_train = pickle.dump(y_train,open('y_train.pkl', 'wb'))\n",
        "X = pickle.dump(X,open('X.pkl', 'wb'))\n",
        "y = pickle.dump(y,open('y.pkl', 'wb'))"
      ]
    },
    {
      "cell_type": "code",
      "execution_count": null,
      "id": "f436788f",
      "metadata": {
        "id": "f436788f"
      },
      "outputs": [],
      "source": []
    },
    {
      "cell_type": "code",
      "execution_count": null,
      "id": "195682d2",
      "metadata": {
        "id": "195682d2"
      },
      "outputs": [],
      "source": []
    }
  ],
  "metadata": {
    "colab": {
      "provenance": []
    },
    "kernelspec": {
      "display_name": "Python 3 (ipykernel)",
      "language": "python",
      "name": "python3"
    },
    "language_info": {
      "codemirror_mode": {
        "name": "ipython",
        "version": 3
      },
      "file_extension": ".py",
      "mimetype": "text/x-python",
      "name": "python",
      "nbconvert_exporter": "python",
      "pygments_lexer": "ipython3",
      "version": "3.10.7"
    }
  },
  "nbformat": 4,
  "nbformat_minor": 5
}
